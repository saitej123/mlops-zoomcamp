{
 "cells": [
  {
   "cell_type": "code",
   "execution_count": 1,
   "id": "2c51efaa",
   "metadata": {},
   "outputs": [
    {
     "name": "stdout",
     "output_type": "stream",
     "text": [
      "scikit-learn==1.1.1\n"
     ]
    }
   ],
   "source": [
    "!pip freeze | grep scikit-learn"
   ]
  },
  {
   "cell_type": "code",
   "execution_count": 2,
   "id": "0ef880a0",
   "metadata": {},
   "outputs": [],
   "source": [
    "import pickle\n",
    "import pandas as pd"
   ]
  },
  {
   "cell_type": "code",
   "execution_count": 3,
   "id": "7836ccfd",
   "metadata": {},
   "outputs": [
    {
     "name": "stderr",
     "output_type": "stream",
     "text": [
      "/home/saiteja/miniconda3/lib/python3.9/site-packages/sklearn/base.py:329: UserWarning: Trying to unpickle estimator DictVectorizer from version 1.0.2 when using version 1.1.1. This might lead to breaking code or invalid results. Use at your own risk. For more info please refer to:\n",
      "https://scikit-learn.org/stable/model_persistence.html#security-maintainability-limitations\n",
      "  warnings.warn(\n",
      "/home/saiteja/miniconda3/lib/python3.9/site-packages/sklearn/base.py:329: UserWarning: Trying to unpickle estimator LinearRegression from version 1.0.2 when using version 1.1.1. This might lead to breaking code or invalid results. Use at your own risk. For more info please refer to:\n",
      "https://scikit-learn.org/stable/model_persistence.html#security-maintainability-limitations\n",
      "  warnings.warn(\n"
     ]
    }
   ],
   "source": [
    "with open('model.bin', 'rb') as f_in:\n",
    "    dv, lr = pickle.load(f_in)"
   ]
  },
  {
   "cell_type": "code",
   "execution_count": 4,
   "id": "41c08294",
   "metadata": {},
   "outputs": [],
   "source": [
    "categorical = ['PUlocationID', 'DOlocationID']\n",
    "\n",
    "def read_data(filename):\n",
    "    df = pd.read_parquet(filename)\n",
    "    \n",
    "    df['duration'] = df.dropOff_datetime - df.pickup_datetime\n",
    "    df['duration'] = df.duration.dt.total_seconds() / 60\n",
    "\n",
    "    df = df[(df.duration >= 1) & (df.duration <= 60)].copy()\n",
    "\n",
    "    df[categorical] = df[categorical].fillna(-1).astype('int').astype('str')\n",
    "    \n",
    "    return df"
   ]
  },
  {
   "cell_type": "code",
   "execution_count": 6,
   "id": "4854399a",
   "metadata": {},
   "outputs": [],
   "source": [
    "df = read_data('https://nyc-tlc.s3.amazonaws.com/trip+data/fhv_tripdata_2021-02.parquet')"
   ]
  },
  {
   "cell_type": "code",
   "execution_count": 7,
   "id": "669fda0a",
   "metadata": {},
   "outputs": [],
   "source": [
    "dicts = df[categorical].to_dict(orient='records')\n",
    "X_val = dv.transform(dicts)\n",
    "y_pred = lr.predict(X_val)"
   ]
  },
  {
   "cell_type": "code",
   "execution_count": 8,
   "id": "56c40543",
   "metadata": {},
   "outputs": [
    {
     "data": {
      "text/plain": [
       "16.191691679979066"
      ]
     },
     "execution_count": 8,
     "metadata": {},
     "output_type": "execute_result"
    }
   ],
   "source": [
    "y_pred.mean()"
   ]
  },
  {
   "cell_type": "code",
   "execution_count": 9,
   "id": "7c4c4c97",
   "metadata": {},
   "outputs": [],
   "source": [
    "from datetime import datetime\n",
    "year= datetime.today().year\n",
    "month=datetime.today().month"
   ]
  },
  {
   "cell_type": "code",
   "execution_count": 10,
   "id": "cebfadfc",
   "metadata": {},
   "outputs": [],
   "source": [
    "df['ride_id'] = f'{year:04d}/{month:02d}_' + df.index.astype('str')"
   ]
  },
  {
   "cell_type": "code",
   "execution_count": 11,
   "id": "70de09e5",
   "metadata": {},
   "outputs": [
    {
     "data": {
      "text/html": [
       "<div>\n",
       "<style scoped>\n",
       "    .dataframe tbody tr th:only-of-type {\n",
       "        vertical-align: middle;\n",
       "    }\n",
       "\n",
       "    .dataframe tbody tr th {\n",
       "        vertical-align: top;\n",
       "    }\n",
       "\n",
       "    .dataframe thead th {\n",
       "        text-align: right;\n",
       "    }\n",
       "</style>\n",
       "<table border=\"1\" class=\"dataframe\">\n",
       "  <thead>\n",
       "    <tr style=\"text-align: right;\">\n",
       "      <th></th>\n",
       "      <th>dispatching_base_num</th>\n",
       "      <th>pickup_datetime</th>\n",
       "      <th>dropOff_datetime</th>\n",
       "      <th>PUlocationID</th>\n",
       "      <th>DOlocationID</th>\n",
       "      <th>SR_Flag</th>\n",
       "      <th>Affiliated_base_number</th>\n",
       "      <th>duration</th>\n",
       "      <th>ride_id</th>\n",
       "    </tr>\n",
       "  </thead>\n",
       "  <tbody>\n",
       "    <tr>\n",
       "      <th>1</th>\n",
       "      <td>B00021</td>\n",
       "      <td>2021-02-01 00:55:40</td>\n",
       "      <td>2021-02-01 01:06:20</td>\n",
       "      <td>173</td>\n",
       "      <td>82</td>\n",
       "      <td>None</td>\n",
       "      <td>B00021</td>\n",
       "      <td>10.666667</td>\n",
       "      <td>2022/06_1</td>\n",
       "    </tr>\n",
       "    <tr>\n",
       "      <th>2</th>\n",
       "      <td>B00021</td>\n",
       "      <td>2021-02-01 00:14:03</td>\n",
       "      <td>2021-02-01 00:28:37</td>\n",
       "      <td>173</td>\n",
       "      <td>56</td>\n",
       "      <td>None</td>\n",
       "      <td>B00021</td>\n",
       "      <td>14.566667</td>\n",
       "      <td>2022/06_2</td>\n",
       "    </tr>\n",
       "    <tr>\n",
       "      <th>3</th>\n",
       "      <td>B00021</td>\n",
       "      <td>2021-02-01 00:27:48</td>\n",
       "      <td>2021-02-01 00:35:45</td>\n",
       "      <td>82</td>\n",
       "      <td>129</td>\n",
       "      <td>None</td>\n",
       "      <td>B00021</td>\n",
       "      <td>7.950000</td>\n",
       "      <td>2022/06_3</td>\n",
       "    </tr>\n",
       "    <tr>\n",
       "      <th>4</th>\n",
       "      <td>B00037</td>\n",
       "      <td>2021-02-01 00:12:50</td>\n",
       "      <td>2021-02-01 00:26:38</td>\n",
       "      <td>-1</td>\n",
       "      <td>225</td>\n",
       "      <td>None</td>\n",
       "      <td>B00037</td>\n",
       "      <td>13.800000</td>\n",
       "      <td>2022/06_4</td>\n",
       "    </tr>\n",
       "    <tr>\n",
       "      <th>5</th>\n",
       "      <td>B00037</td>\n",
       "      <td>2021-02-01 00:00:37</td>\n",
       "      <td>2021-02-01 00:09:35</td>\n",
       "      <td>-1</td>\n",
       "      <td>61</td>\n",
       "      <td>None</td>\n",
       "      <td>B00037</td>\n",
       "      <td>8.966667</td>\n",
       "      <td>2022/06_5</td>\n",
       "    </tr>\n",
       "  </tbody>\n",
       "</table>\n",
       "</div>"
      ],
      "text/plain": [
       "  dispatching_base_num     pickup_datetime    dropOff_datetime PUlocationID  \\\n",
       "1      B00021          2021-02-01 00:55:40 2021-02-01 01:06:20          173   \n",
       "2      B00021          2021-02-01 00:14:03 2021-02-01 00:28:37          173   \n",
       "3      B00021          2021-02-01 00:27:48 2021-02-01 00:35:45           82   \n",
       "4               B00037 2021-02-01 00:12:50 2021-02-01 00:26:38           -1   \n",
       "5               B00037 2021-02-01 00:00:37 2021-02-01 00:09:35           -1   \n",
       "\n",
       "  DOlocationID SR_Flag Affiliated_base_number   duration    ride_id  \n",
       "1           82    None        B00021           10.666667  2022/06_1  \n",
       "2           56    None        B00021           14.566667  2022/06_2  \n",
       "3          129    None        B00021            7.950000  2022/06_3  \n",
       "4          225    None                 B00037  13.800000  2022/06_4  \n",
       "5           61    None                 B00037   8.966667  2022/06_5  "
      ]
     },
     "execution_count": 11,
     "metadata": {},
     "output_type": "execute_result"
    }
   ],
   "source": [
    "df.head()"
   ]
  },
  {
   "cell_type": "code",
   "execution_count": 12,
   "id": "43518f7a",
   "metadata": {},
   "outputs": [],
   "source": [
    "df[\"prediction\"]=y_pred"
   ]
  },
  {
   "cell_type": "code",
   "execution_count": 13,
   "id": "c243c977",
   "metadata": {},
   "outputs": [],
   "source": [
    "df_result=df[[\"ride_id\",\"prediction\"]]"
   ]
  },
  {
   "cell_type": "code",
   "execution_count": 14,
   "id": "2ac9908f",
   "metadata": {},
   "outputs": [],
   "source": [
    "df_result.to_parquet(\n",
    "    \"df_result\",\n",
    "    engine='pyarrow',\n",
    "    compression=None,\n",
    "    index=False\n",
    ")"
   ]
  },
  {
   "cell_type": "code",
   "execution_count": 15,
   "id": "be305ca0",
   "metadata": {},
   "outputs": [
    {
     "name": "stdout",
     "output_type": "stream",
     "text": [
      "total 19280\n",
      "-rw-r--r-- 1 saiteja saiteja     2360 Jun 28 22:22 starter.ipynb\n",
      "-rw-r--r-- 1 saiteja saiteja    17760 Jun 28 22:22 model.bin\n",
      "-rw-r--r-- 1 saiteja saiteja       72 Jun 28 22:22 Dockerfile\n",
      "-rw-r--r-- 1 saiteja saiteja 19711435 Jun 28 22:45 df_result\n"
     ]
    }
   ],
   "source": [
    "!ls -ltr"
   ]
  },
  {
   "cell_type": "code",
   "execution_count": 16,
   "id": "4256d88c",
   "metadata": {},
   "outputs": [],
   "source": [
    "def data_with_date(month,year):\n",
    "    datetime_object1 = datetime.strptime(month,'%B')\n",
    "    datetime_object2 = datetime.strptime(year,'%Y')    \n",
    "    filename= \"https://nyc-tlc.s3.amazonaws.com/trip+data/fhv_tripdata_\"+ str(datetime_object2.year) + \"-\" + str(datetime_object1.month).zfill(2)+\".parquet\"\n",
    "    df = read_data(filename)\n",
    "    return df"
   ]
  },
  {
   "cell_type": "code",
   "execution_count": 17,
   "id": "47447e1c",
   "metadata": {},
   "outputs": [],
   "source": [
    "def mean_predicted_duration(df):\n",
    "    dicts = df[categorical].to_dict(orient='records')\n",
    "    X_val = dv.transform(dicts)\n",
    "    y_pred = lr.predict(X_val)\n",
    "    return(y_pred.mean())"
   ]
  },
  {
   "cell_type": "code",
   "execution_count": 18,
   "id": "d7501f45",
   "metadata": {},
   "outputs": [
    {
     "name": "stdout",
     "output_type": "stream",
     "text": [
      "[NbConvertApp] Converting notebook starter.ipynb to script\n",
      "[NbConvertApp] Writing 860 bytes to starter.py\n"
     ]
    }
   ],
   "source": [
    "!jupyter nbconvert starter.ipynb --to script"
   ]
  },
  {
   "cell_type": "markdown",
   "id": "390fe3f7",
   "metadata": {},
   "source": [
    "\"scikit-learn\": {\n",
    "            \"hashes\": [\n",
    "                \"sha256:08ef968f6b72033c16c479c966bf37ccd49b06ea91b765e1cc27afefe723920b\",\n",
    "                \"sha256:158faf30684c92a78e12da19c73feff9641a928a8024b4fa5ec11d583f3d8a87\","
   ]
  },
  {
   "cell_type": "code",
   "execution_count": 23,
   "id": "02724484",
   "metadata": {},
   "outputs": [
    {
     "data": {
      "text/plain": [
       "'sha256:08ef968f6b72033c16c479c966bf37ccd49b06ea91b765e1cc27afefe723920b'"
      ]
     },
     "execution_count": 23,
     "metadata": {},
     "output_type": "execute_result"
    }
   ],
   "source": [
    "\"sha256:08ef968f6b72033c16c479c966bf37ccd49b06ea91b765e1cc27afefe723920b\""
   ]
  },
  {
   "cell_type": "code",
   "execution_count": 26,
   "id": "43b3001f",
   "metadata": {},
   "outputs": [
    {
     "name": "stdout",
     "output_type": "stream",
     "text": [
      "/home/saiteja/miniconda3/lib/python3.9/site-packages/sklearn/base.py:329: UserWarning: Trying to unpickle estimator DictVectorizer from version 1.0.2 when using version 1.1.1. This might lead to breaking code or invalid results. Use at your own risk. For more info please refer to:\n",
      "https://scikit-learn.org/stable/model_persistence.html#security-maintainability-limitations\n",
      "  warnings.warn(\n",
      "/home/saiteja/miniconda3/lib/python3.9/site-packages/sklearn/base.py:329: UserWarning: Trying to unpickle estimator LinearRegression from version 1.0.2 when using version 1.1.1. This might lead to breaking code or invalid results. Use at your own risk. For more info please refer to:\n",
      "https://scikit-learn.org/stable/model_persistence.html#security-maintainability-limitations\n",
      "  warnings.warn(\n",
      "March 2021\n",
      "16.298821614015107\n"
     ]
    }
   ],
   "source": [
    "!python starter.py March 2021"
   ]
  },
  {
   "cell_type": "code",
   "execution_count": 27,
   "id": "d8f1e1c3",
   "metadata": {},
   "outputs": [
    {
     "data": {
      "text/plain": [
       "16.298821614015107"
      ]
     },
     "execution_count": 27,
     "metadata": {},
     "output_type": "execute_result"
    }
   ],
   "source": [
    "month=\"March\"\n",
    "year=\"2021\"\n",
    "df_new=data_with_date(month,year)\n",
    "mean_predicted_duration(df_new)"
   ]
  },
  {
   "cell_type": "code",
   "execution_count": null,
   "id": "7bc20c36",
   "metadata": {},
   "outputs": [],
   "source": [
    "docker build -t mlops-zoomcamp-sai-homework-week4:v1 ."
   ]
  },
  {
   "cell_type": "code",
   "execution_count": 29,
   "id": "02da2c52",
   "metadata": {},
   "outputs": [
    {
     "name": "stdout",
     "output_type": "stream",
     "text": [
      "April 2021\n",
      "9.967573179784523\n"
     ]
    }
   ],
   "source": [
    "!docker run -it mlops-zoomcamp-sai-homework-week4:v1"
   ]
  },
  {
   "cell_type": "code",
   "execution_count": 31,
   "id": "eb2393f2",
   "metadata": {},
   "outputs": [],
   "source": [
    "!docker tag mlops-zoomcamp-sai-homework-week4:v1 agrigorev/mlops-zoomcamp-sai-homework-week4:v1"
   ]
  },
  {
   "cell_type": "code",
   "execution_count": 32,
   "id": "9bf66cb9",
   "metadata": {},
   "outputs": [
    {
     "name": "stdout",
     "output_type": "stream",
     "text": [
      "The push refers to repository [docker.io/agrigorev/mlops-zoomcamp-sai-homework-week4]\n",
      "\n",
      "\u001b[1Bff5b9576: Preparing \n",
      "\u001b[1B86e66a42: Preparing \n",
      "\u001b[1Ba6b530f3: Preparing \n",
      "\u001b[1B3c5d65df: Preparing \n",
      "\u001b[1B6733ae32: Preparing \n",
      "\u001b[1Be81be153: Preparing \n",
      "\u001b[1B4c1b2331: Preparing \n",
      "\u001b[1B57ad7c90: Preparing \n",
      "\u001b[1Bffa0f231: Preparing \n",
      "\u001b[1Bf2f3031a: Preparing \n",
      "\u001b[1B9e19fc12: Preparing \n",
      "\u001b[1B579f0c8c: Preparing \n",
      "\u001b[1B81af66dd: Preparing \n",
      "\u001b[1Beb12ee3f: Preparing \n",
      "\u001b[1B205045a6: Preparing \n",
      "\u001b[1B6c64b82c: Preparing \n",
      "\u001b[1Bedeb736e: Preparing \n",
      "\u001b[1Bce0964b8: Preparing \n",
      "\u001b[11Bdenied: requested access to the resource is denied\n"
     ]
    }
   ],
   "source": [
    "!docker push agrigorev/mlops-zoomcamp-sai-homework-week4:v1"
   ]
  },
  {
   "cell_type": "code",
   "execution_count": null,
   "id": "c26137fd",
   "metadata": {},
   "outputs": [],
   "source": []
  }
 ],
 "metadata": {
  "kernelspec": {
   "display_name": "Python 3.9.12 ('base')",
   "language": "python",
   "name": "python3"
  },
  "language_info": {
   "codemirror_mode": {
    "name": "ipython",
    "version": 3
   },
   "file_extension": ".py",
   "mimetype": "text/x-python",
   "name": "python",
   "nbconvert_exporter": "python",
   "pygments_lexer": "ipython3",
   "version": "3.9.12"
  },
  "vscode": {
   "interpreter": {
    "hash": "a892a16107c5bb07bab0dba111bdd8bb195468b36f63aeb3c436d965b4d5d42a"
   }
  }
 },
 "nbformat": 4,
 "nbformat_minor": 5
}
